{
 "cells": [
  {
   "cell_type": "markdown",
   "id": "a794eb85",
   "metadata": {},
   "source": [
    "QUE 1 =  Explain what inheritance is in object-oriented programming and why it is used.\n",
    "\n",
    "ANS 1 =  Inheritance is a fundamental concept in object-oriented programming (OOP) that allows one class to inherit the properties and behaviors (i.e., attributes and methods) of another class. Inheritance is used to establish a relationship between classes where one class, called the \"child\" or \"subclass,\" can inherit the characteristics of another class, known as the \"parent\" or \"superclass.\" This relationship is often described as an \"is-a\" relationship, where the subclass is considered to be a specialized version of the superclass.\n",
    "\n",
    "Here are the key aspects of inheritance and why it is used in OOP:\n",
    "\n",
    "Reusability: Inheritance promotes code reuse by allowing you to define a new class (subclass) that inherits the attributes and methods of an existing class (superclass). This means you don't have to rewrite the same code for common features shared among different classes.\n",
    "\n",
    "Hierarchical Structure: Inheritance creates a hierarchical structure of classes, where subclasses can be organized in a way that represents the relationships between objects in the real world. For example, you could have a superclass called \"Vehicle\" with subclasses like \"Car,\" \"Bicycle,\" and \"Truck,\" which inherit the common properties and behaviors of all vehicles.\n",
    "\n",
    "Extensibility: Subclasses can extend the functionality of their parent classes by adding new attributes and methods or by overriding existing ones. This allows you to customize the behavior of the subclass while still benefiting from the shared functionality of the superclass.\n",
    "\n",
    "Polymorphism: Inheritance is closely related to polymorphism, another key OOP concept. Polymorphism allows objects of different classes to be treated as objects of a common superclass. This makes it easier to write code that can work with a variety of objects in a consistent way.\n",
    "\n",
    "Maintainability: Inheritance can make code more maintainable by organizing related classes into a logical hierarchy. Changes made to the superclass can be automatically inherited by its subclasses, reducing the risk of introducing errors when making updates."
   ]
  },
  {
   "cell_type": "markdown",
   "id": "00712387",
   "metadata": {},
   "source": [
    "QUE 2 =  Discuss the concept of single inheritance and multiple inheritance, highlighting their\n",
    "differences and advantages.\n",
    "\n",
    "ANS 2 =  Single Inheritance and Multiple Inheritance are two fundamental concepts in object-oriented programming (OOP) that determine how classes can inherit properties and behaviors from other classes. These concepts have their own advantages and differences.\n",
    "\n",
    "Single Inheritance:\n",
    "\n",
    "Single Inheritance is a type of inheritance in which a class can inherit properties and behaviors from only one superclass or parent class. This means that a derived class can have only one immediate ancestor or parent class.\n",
    "\n",
    "Advantages of Single Inheritance:\n",
    "\n",
    "Simplicity: Single Inheritance is straightforward and easy to understand. It avoids complex hierarchies and reduces ambiguity in the inheritance chain.\n",
    "\n",
    "Reduced Conflicts: With only one parent class, there are fewer chances of conflicts or ambiguities in method and attribute names. It simplifies method resolution and naming conflicts.\n",
    "\n",
    "Code Reusability: Single Inheritance promotes code reusability by allowing a class to inherit and reuse the properties and behaviors of a single parent class.\n",
    "\n",
    "Predictability: It offers a high level of predictability, as there's a clear path of inheritance. It's easier to trace the origin of methods and attributes in the class hierarchy.\n",
    "\n",
    "Multiple Inheritance:\n",
    "\n",
    "Multiple Inheritance is a type of inheritance in which a class can inherit properties and behaviors from more than one superclass or parent class. In other words, a derived class can have multiple immediate ancestors or parent classes.\n",
    "\n",
    "Advantages of Multiple Inheritance:\n",
    "\n",
    "Enhanced Reusability: Multiple Inheritance allows a class to inherit and combine features from multiple parent classes. This can lead to more efficient code reuse, as you can mix and match functionality from different sources.\n",
    "\n",
    "Complex Hierarchies: It's suitable for modeling complex relationships and hierarchies where a class can have multiple roles or responsibilities. For example, a class can inherit traits from both a \"Bird\" and a \"Mammal\" class.\n",
    "\n",
    "Promotes Modularity: By breaking down functionality into smaller, reusable classes, you can achieve a higher degree of modularity and maintainability in your code.\n",
    "\n",
    "Flexibility: Multiple Inheritance provides flexibility in designing classes by allowing you to combine different features, which can lead to more adaptable and extensible code.\n",
    "\n",
    "Differences:\n",
    "\n",
    "Number of Parents: The primary difference between single and multiple inheritance is the number of parent classes. Single inheritance allows only one parent class, while multiple inheritance permits multiple parent classes.\n",
    "\n",
    "Complexity: Multiple inheritance can lead to more complex class hierarchies and increased chances of method and attribute conflicts due to the potential for naming clashes from multiple sources.\n",
    "\n",
    "Readability and Maintainability: Single inheritance is generally considered easier to read and maintain because it offers a simpler and more linear class hierarchy. Multiple inheritance can become harder to understand as the number of parent classes increases.\n",
    "\n",
    "Diamond Problem: Multiple inheritance introduces the \"diamond problem,\" a situation where a class inherits from two classes that have a common ancestor. This can result in ambiguity in method resolution, which needs to be addressed through mechanisms like virtual inheritance in languages that support it."
   ]
  },
  {
   "cell_type": "markdown",
   "id": "3793de86",
   "metadata": {},
   "source": [
    "QUE 3 = Explain the terms \"base class\" and \"derived class\" in the context of inheritance?\n",
    "\n",
    "ANS 3 =  In object-oriented programming (OOP), \"base class\" and \"derived class\" are terms used to describe the relationship between two classes when inheritance is employed. Inheritance is a fundamental concept in OOP that allows you to create a new class (the derived or subclass) that inherits properties and behaviors from an existing class (the base or superclass). This relationship is often depicted as an \"is-a\" relationship, where the derived class is a specialized version of the base class.\n",
    "\n",
    "Here's a more detailed explanation of these terms:\n",
    "\n",
    "Base Class (Superclass):\n",
    "\n",
    "A base class is the class that serves as the foundation or parent class.\n",
    "It defines common attributes (data members) and methods (functions) that can be shared by one or more derived classes.\n",
    "Base classes are often designed to be more general and generic, providing a blueprint for derived classes to build upon.\n",
    "Instances of the base class can be created, and it can be used independently, but it may lack some specific features or behaviors that are implemented in its derived classes.\n",
    "\n",
    "Derived Class (Subclass):\n",
    "\n",
    "A derived class is a class that inherits attributes and methods from a base class.\n",
    "It is sometimes referred to as a subclass or child class.\n",
    "Inheritance allows the derived class to reuse and extend the functionality of the base class.\n",
    "The derived class can add additional attributes and methods or override existing ones to customize its behavior or provide specialized functionality.\n",
    "Instances of the derived class inherit the properties and behaviors of both the base class and any additional features introduced in the derived class.\n",
    "Here's a simplified example in Python to illustrate the concept of base and derived classes:\n",
    "EG.\n"
   ]
  },
  {
   "cell_type": "code",
   "execution_count": 1,
   "id": "1ba8a98c",
   "metadata": {},
   "outputs": [
    {
     "name": "stdout",
     "output_type": "stream",
     "text": [
      "Buddy says Woof!\n",
      "Whiskers says Meow!\n"
     ]
    }
   ],
   "source": [
    "# Base Class\n",
    "class Animal:\n",
    "    def __init__(self, name):\n",
    "        self.name = name\n",
    "\n",
    "    def speak(self):\n",
    "        pass\n",
    "\n",
    "# Derived Class\n",
    "class Dog(Animal):\n",
    "    def speak(self):\n",
    "        return f\"{self.name} says Woof!\"\n",
    "\n",
    "class Cat(Animal):\n",
    "    def speak(self):\n",
    "        return f\"{self.name} says Meow!\"\n",
    "\n",
    "# Creating instances of derived classes\n",
    "dog = Dog(\"Buddy\")\n",
    "cat = Cat(\"Whiskers\")\n",
    "\n",
    "print(dog.speak())  # Output: Buddy says Woof!\n",
    "print(cat.speak())  # Output: Whiskers says Meow!\n"
   ]
  },
  {
   "cell_type": "markdown",
   "id": "eda8cd02",
   "metadata": {},
   "source": [
    "QUE 4 = What is the significance of the \"protected\" access modifier in inheritance? How does\n",
    "it differ from \"private\" and \"public\" modifiers?\n",
    "\n",
    "ANS 4 = In Python, as well as in many object-oriented programming languages, access modifiers like \"protected,\" \"private,\" and \"public\" play a role in controlling the visibility and accessibility of class members (attributes and methods) within a class hierarchy. Here's an explanation of these access modifiers and their significance in inheritance:\n",
    "\n",
    "Public (No Modifier):\n",
    "\n",
    "In Python, if an attribute or method of a class is defined without any access modifier, it is considered \"public\" by default.\n",
    "Public members are accessible from anywhere, both within and outside the class."
   ]
  },
  {
   "cell_type": "code",
   "execution_count": 7,
   "id": "951f0a6c",
   "metadata": {},
   "outputs": [
    {
     "name": "stdout",
     "output_type": "stream",
     "text": [
      "42\n",
      "This is a public method\n"
     ]
    }
   ],
   "source": [
    "class MyClass:\n",
    "    def __init__(self):\n",
    "        self.public_var = 42\n",
    "\n",
    "    def public_method(self):\n",
    "        return \"This is a public method\"\n",
    "\n",
    "obj = MyClass()\n",
    "print(obj.public_var)       # Accessing a public variable\n",
    "print(obj.public_method())  # Accessing a public method\n"
   ]
  },
  {
   "cell_type": "markdown",
   "id": "91e1802a",
   "metadata": {},
   "source": [
    "Protected (_ Prefix):\n",
    "\n",
    "In Python, a member with a name starting with a single underscore (_) is considered \"protected.\"\n",
    "Protected members are meant to be internal to the class and its subclasses. They are not meant to be accessed directly from outside the class, but it is still possible."
   ]
  },
  {
   "cell_type": "code",
   "execution_count": 8,
   "id": "44a07b3e",
   "metadata": {},
   "outputs": [
    {
     "name": "stdout",
     "output_type": "stream",
     "text": [
      "42\n",
      "This is a protected method\n"
     ]
    }
   ],
   "source": [
    "class MyClass:\n",
    "    def __init__(self):\n",
    "        self._protected_var = 42\n",
    "\n",
    "    def _protected_method(self):\n",
    "        return \"This is a protected method\"\n",
    "\n",
    "obj = MyClass()\n",
    "print(obj._protected_var)       # Accessing a protected variable (possible but discouraged)\n",
    "print(obj._protected_method())  # Accessing a protected method (possible but discouraged)\n"
   ]
  },
  {
   "cell_type": "markdown",
   "id": "61c52251",
   "metadata": {},
   "source": [
    "The underscore prefix is more of a convention in Python, indicating that these members should not be accessed from outside the class, but it does not enforce strict encapsulation.\n",
    "\n",
    "\n",
    "Private (Double Underscore Prefix):\n",
    "    \n",
    "\n",
    "In Python, a member with a name starting with a double underscore (__) is considered \"private.\"\n",
    "\n",
    "Private members are intended to be used only within the class that defines them. They are name-mangled to make them less accessible from outside the class.\n"
   ]
  },
  {
   "cell_type": "code",
   "execution_count": 9,
   "id": "1c3a0914",
   "metadata": {},
   "outputs": [],
   "source": [
    "class MyClass:\n",
    "    def __init__(self):\n",
    "        self.__private_var = 42\n",
    "\n",
    "    def __private_method(self):\n",
    "        return \"This is a private method\"\n",
    "\n",
    "obj = MyClass()\n",
    "# Attempting to access private members directly will result in an AttributeError\n",
    "# print(obj.__private_var)  # Raises an AttributeError\n",
    "# print(obj.__private_method())  # Raises an AttributeError\n"
   ]
  },
  {
   "cell_type": "markdown",
   "id": "15dd1741",
   "metadata": {},
   "source": [
    "QUE 5 = What is the purpose of the \"super\" keyword in inheritance? Provide an example.\n",
    "\n",
    "ANS 5 =  In Python, the super keyword is used in inheritance to call a method or access an attribute from the parent class (or superclass) within a subclass. It allows you to invoke the parent class's implementation of a method, even when the method has been overridden in the subclass. This is particularly useful when you want to extend the behavior of a method defined in the parent class while still maintaining some of its original functionality.\n",
    "\n",
    "Here's an example to illustrate the purpose of the super keyword in inheritance:"
   ]
  },
  {
   "cell_type": "code",
   "execution_count": 5,
   "id": "b8435164",
   "metadata": {},
   "outputs": [
    {
     "name": "stdout",
     "output_type": "stream",
     "text": [
      "Some generic animal sound\n",
      "Bark\n",
      "Dog-specific behavior\n"
     ]
    }
   ],
   "source": [
    "class Animal:\n",
    "    def make_sound(self):\n",
    "        print(\"Some generic animal sound\")\n",
    "\n",
    "class Dog(Animal):\n",
    "    def make_sound(self):\n",
    "        print(\"Bark\")\n",
    "\n",
    "    def display(self):\n",
    "        super().make_sound()  # Calls the make_sound method of the superclass (Animal)\n",
    "        self.make_sound()     # Calls the overridden make_sound method in Dog\n",
    "        print(\"Dog-specific behavior\")\n",
    "\n",
    "my_dog = Dog()\n",
    "my_dog.display()\n",
    "\n"
   ]
  },
  {
   "cell_type": "code",
   "execution_count": null,
   "id": "0864d1ed",
   "metadata": {},
   "outputs": [],
   "source": [
    "QUE 6 = Create a base class called \"Vehicle\" with attributes like \"make\", \"model\", and \"year\".\n",
    "Then, create a derived class called \"Car\" that inherits from \"Vehicle\" and adds an\n",
    "attribute called \"fuel_type\". Implement appropriate methods in both classes.\n",
    "\n",
    "ANS 6 = CODE"
   ]
  },
  {
   "cell_type": "code",
   "execution_count": 10,
   "id": "df20a583",
   "metadata": {},
   "outputs": [
    {
     "name": "stdout",
     "output_type": "stream",
     "text": [
      "Make: Toyota, Model: Camry, Year: 2023, Fuel Type: Gasoline\n",
      "Toyota Camry goes 'Honk! Honk!'\n"
     ]
    }
   ],
   "source": [
    "class Vehicle:\n",
    "    def __init__(self, make, model, year):\n",
    "        self.make = make\n",
    "        self.model = model\n",
    "        self.year = year\n",
    "\n",
    "    def get_details(self):\n",
    "        return f\"Make: {self.make}, Model: {self.model}, Year: {self.year}\"\n",
    "\n",
    "\n",
    "class Car(Vehicle):\n",
    "    def __init__(self, make, model, year, fuel_type):\n",
    "        super().__init__(make, model, year)\n",
    "        self.fuel_type = fuel_type\n",
    "\n",
    "    def get_details(self):\n",
    "        vehicle_details = super().get_details()\n",
    "        return f\"{vehicle_details}, Fuel Type: {self.fuel_type}\"\n",
    "\n",
    "    def honk(self):\n",
    "        return f\"{self.make} {self.model} goes 'Honk! Honk!'\"\n",
    "\n",
    "# Example usage:\n",
    "my_car = Car(\"Toyota\", \"Camry\", 2023, \"Gasoline\")\n",
    "print(my_car.get_details())  # Output: Make: Toyota, Model: Camry, Year: 2023, Fuel Type: Gasoline\n",
    "print(my_car.honk())         # Output: Toyota Camry goes 'Hon\n"
   ]
  },
  {
   "cell_type": "markdown",
   "id": "547cb5d5",
   "metadata": {},
   "source": [
    "QUE 7 = Create a base class called \"Employee\" with attributes like \"name\" and \"salary.\"\n",
    "Derive two classes, \"Manager\" and \"Developer,\" from \"Employee.\" Add an additional\n",
    "attribute called \"department\" for the \"Manager\" class and \"programming_language\"\n",
    "for the \"Developer\" class.\n",
    "\n",
    "ANS 7 = CODE"
   ]
  },
  {
   "cell_type": "code",
   "execution_count": 12,
   "id": "05262431",
   "metadata": {},
   "outputs": [
    {
     "name": "stdout",
     "output_type": "stream",
     "text": [
      "Name: SACHIN, Salary: $75000, Department: HR\n",
      "Name: SHIVAM, Salary: $80000, Programming Language: Python\n"
     ]
    }
   ],
   "source": [
    "class Employee:\n",
    "    def __init__(self, name, salary):\n",
    "        self.name = name\n",
    "        self.salary = salary\n",
    "\n",
    "    def get_details(self):\n",
    "        return f\"Name: {self.name}, Salary: ${self.salary}\"\n",
    "\n",
    "\n",
    "class Manager(Employee):\n",
    "    def __init__(self, name, salary, department):\n",
    "        super().__init__(name, salary)\n",
    "        self.department = department\n",
    "\n",
    "    def get_details(self):\n",
    "        employee_details = super().get_details()\n",
    "        return f\"{employee_details}, Department: {self.department}\"\n",
    "\n",
    "\n",
    "class Developer(Employee):\n",
    "    def __init__(self, name, salary, programming_language):\n",
    "        super().__init__(name, salary)\n",
    "        self.programming_language = programming_language\n",
    "\n",
    "    def get_details(self):\n",
    "        employee_details = super().get_details()\n",
    "        return f\"{employee_details}, Programming Language: {self.programming_language}\"\n",
    "\n",
    "# Example usage:\n",
    "manager = Manager(\"SACHIN\", 75000, \"HR\")\n",
    "developer = Developer(\"SHIVAM\", 80000, \"Python\")\n",
    "\n",
    "print(manager.get_details())  \n",
    "print(developer.get_details())  "
   ]
  },
  {
   "cell_type": "markdown",
   "id": "67c048a2",
   "metadata": {},
   "source": [
    "QUE 8 = Design a base class called \"Shape\" with attributes like \"colour\" and \"border_width.\"\n",
    "Create derived classes, \"Rectangle\" and \"Circle,\" that inherit from \"Shape\" and add\n",
    "specific attributes like \"length\" and \"width\" for the \"Rectangle\" class and \"radius\" for\n",
    "the \"Circle\" class.\n",
    "\n",
    "ANS 8 = CODE"
   ]
  },
  {
   "cell_type": "code",
   "execution_count": 14,
   "id": "b4ba32b2",
   "metadata": {},
   "outputs": [
    {
     "name": "stdout",
     "output_type": "stream",
     "text": [
      "Rectangle: Colour=Red, Border Width=2, Length=5, Width=4, Area=20, Perimeter=18\n",
      "Circle: Colour=Blue, Border Width=1, Radius=3, Area=28.274333882308138, Circumference=18.84955592153876\n"
     ]
    }
   ],
   "source": [
    "class Shape:\n",
    "    def __init__(self, colour, border_width):\n",
    "        self.colour = colour\n",
    "        self.border_width = border_width\n",
    "\n",
    "    def area(self):\n",
    "        pass  # Placeholder method, will be overridden by derived classes\n",
    "\n",
    "    def perimeter(self):\n",
    "        pass  # Placeholder method, will be overridden by derived classes\n",
    "\n",
    "\n",
    "class Rectangle(Shape):\n",
    "    def __init__(self, colour, border_width, length, width):\n",
    "        super().__init__(colour, border_width)\n",
    "        self.length = length\n",
    "        self.width = width\n",
    "\n",
    "    def area(self):\n",
    "        return self.length * self.width\n",
    "\n",
    "    def perimeter(self):\n",
    "        return 2 * (self.length + self.width)\n",
    "\n",
    "\n",
    "class Circle(Shape):\n",
    "    def __init__(self, colour, border_width, radius):\n",
    "        super().__init__(colour, border_width)\n",
    "        self.radius = radius\n",
    "\n",
    "    def area(self):\n",
    "        import math\n",
    "        return math.pi * self.radius ** 2\n",
    "\n",
    "    def perimeter(self):\n",
    "        import math\n",
    "        return 2 * math.pi * self.radius\n",
    "\n",
    "\n",
    "# Example usage:\n",
    "rectangle = Rectangle(\"Red\", 2, 5, 4)\n",
    "circle = Circle(\"Blue\", 1, 3)\n",
    "\n",
    "print(f\"Rectangle: Colour={rectangle.colour}, Border Width={rectangle.border_width}, Length={rectangle.length}, Width={rectangle.width}, Area={rectangle.area()}, Perimeter={rectangle.perimeter()}\")\n",
    "print(f\"Circle: Colour={circle.colour}, Border Width={circle.border_width}, Radius={circle.radius}, Area={circle.area()}, Circumference={circle.perimeter()}\")\n"
   ]
  },
  {
   "cell_type": "markdown",
   "id": "dcd7fef7",
   "metadata": {},
   "source": [
    "QUE 9 = Create a base class called \"Device\" with attributes like \"brand\" and \"model.\" Derive\n",
    "two classes, \"Phone\" and \"Tablet,\" from \"Device.\" Add specific attributes like\n",
    "\"screen_size\" for the \"Phone\" class and \"battery_capacity\" for the \"Tablet\" class.\n",
    "\n",
    "ANS 9 = CODE"
   ]
  },
  {
   "cell_type": "code",
   "execution_count": 15,
   "id": "07a1e1a3",
   "metadata": {},
   "outputs": [
    {
     "name": "stdout",
     "output_type": "stream",
     "text": [
      "Phone: Apple iPhone 13, Screen Size: 6.1 inches\n",
      "Tablet: Samsung Galaxy Tab S7, Battery Capacity: 8000 mAh\n"
     ]
    }
   ],
   "source": [
    "class Device:\n",
    "    def __init__(self, brand, model):\n",
    "        self.brand = brand\n",
    "        self.model = model\n",
    "\n",
    "class Phone(Device):\n",
    "    def __init__(self, brand, model, screen_size):\n",
    "        super().__init__(brand, model)\n",
    "        self.screen_size = screen_size\n",
    "\n",
    "class Tablet(Device):\n",
    "    def __init__(self, brand, model, battery_capacity):\n",
    "        super().__init__(brand, model)\n",
    "        self.battery_capacity = battery_capacity\n",
    "\n",
    "# Example usage:\n",
    "phone = Phone(\"Apple\", \"iPhone 13\", \"6.1 inches\")\n",
    "tablet = Tablet(\"Samsung\", \"Galaxy Tab S7\", \"8000 mAh\")\n",
    "\n",
    "print(f\"Phone: {phone.brand} {phone.model}, Screen Size: {phone.screen_size}\")\n",
    "print(f\"Tablet: {tablet.brand} {tablet.model}, Battery Capacity: {tablet.battery_capacity}\")\n"
   ]
  },
  {
   "cell_type": "markdown",
   "id": "c6cfb78e",
   "metadata": {},
   "source": [
    "QUE 10 = Create a base class called \"BankAccount\" with attributes like \"account_number\" and\n",
    "\"balance.\" Derive two classes, \"SavingsAccount\" and \"CheckingAccount,\" from\n",
    "\"BankAccount.\" Add specific methods like \"calculate_interest\" for the\n",
    "\"SavingsAccount\" class and \"deduct_fees\" for the \"CheckingAccount\" class.\n",
    "\n",
    "ANS 10 = CODE"
   ]
  },
  {
   "cell_type": "code",
   "execution_count": 18,
   "id": "b79a72fb",
   "metadata": {},
   "outputs": [
    {
     "name": "stdout",
     "output_type": "stream",
     "text": [
      "Account Number: SA12345\n",
      "Balance: $1000\n",
      "Interest added: $25.0. New balance: $1025.0\n",
      "Account Number: CA67890\n",
      "Balance: $500\n",
      "Fees deducted: $10. New balance: $490\n"
     ]
    }
   ],
   "source": [
    "class BankAccount:\n",
    "    def __init__(self, account_number, balance):\n",
    "        self.account_number = account_number\n",
    "        self.balance = balance\n",
    "\n",
    "    def deposit(self, amount):\n",
    "        if amount > 0:\n",
    "            self.balance += amount\n",
    "            print(f\"Deposited ${amount}. New balance: ${self.balance}\")\n",
    "        else:\n",
    "            print(\"Invalid deposit amount.\")\n",
    "\n",
    "    def withdraw(self, amount):\n",
    "        if 0 < amount <= self.balance:\n",
    "            self.balance -= amount\n",
    "            print(f\"Withdrew ${amount}. New balance: ${self.balance}\")\n",
    "        else:\n",
    "            print(\"Invalid withdrawal amount or insufficient balance.\")\n",
    "\n",
    "    def display_balance(self):\n",
    "        print(f\"Account Number: {self.account_number}\")\n",
    "        print(f\"Balance: ${self.balance}\")\n",
    "\n",
    "\n",
    "class SavingsAccount(BankAccount):\n",
    "    def calculate_interest(self, interest_rate):\n",
    "        if interest_rate >= 0:\n",
    "            interest = self.balance * (interest_rate / 100)\n",
    "            self.balance += interest\n",
    "            print(f\"Interest added: ${interest}. New balance: ${self.balance}\")\n",
    "        else:\n",
    "            print(\"Invalid interest rate.\")\n",
    "\n",
    "\n",
    "class CheckingAccount(BankAccount):\n",
    "    def deduct_fees(self, fee_amount):\n",
    "        if fee_amount >= 0:\n",
    "            if fee_amount <= self.balance:\n",
    "                self.balance -= fee_amount\n",
    "                print(f\"Fees deducted: ${fee_amount}. New balance: ${self.balance}\")\n",
    "            else:\n",
    "                print(\"Insufficient balance to deduct fees.\")\n",
    "        else:\n",
    "            print(\"Invalid fee amount.\")\n",
    "\n",
    "\n",
    "# Example usage:\n",
    "savings_account = SavingsAccount(\"SA12345\", 1000)\n",
    "savings_account.display_balance()\n",
    "savings_account.calculate_interest(2.5)\n",
    "\n",
    "checking_account = CheckingAccount(\"CA67890\", 500)\n",
    "checking_account.display_balance()\n",
    "checking_account.deduct_fees(10)\n"
   ]
  },
  {
   "cell_type": "code",
   "execution_count": null,
   "id": "eb4261df",
   "metadata": {},
   "outputs": [],
   "source": []
  }
 ],
 "metadata": {
  "kernelspec": {
   "display_name": "Python 3 (ipykernel)",
   "language": "python",
   "name": "python3"
  },
  "language_info": {
   "codemirror_mode": {
    "name": "ipython",
    "version": 3
   },
   "file_extension": ".py",
   "mimetype": "text/x-python",
   "name": "python",
   "nbconvert_exporter": "python",
   "pygments_lexer": "ipython3",
   "version": "3.11.4"
  }
 },
 "nbformat": 4,
 "nbformat_minor": 5
}
